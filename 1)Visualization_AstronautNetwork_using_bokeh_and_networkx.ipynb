{
 "cells": [
  {
   "cell_type": "markdown",
   "metadata": {},
   "source": [
    "# Visualizing networks of astronauts\n",
    "Using networkx and Bokeh"
   ]
  },
  {
   "cell_type": "code",
   "execution_count": 1,
   "metadata": {},
   "outputs": [],
   "source": [
    "# You can also install this libraries in virtual environment so that you do not have to install everytime while accessing file.\n",
    "# pip install bokeh\n",
    "# pip install networkx"
   ]
  },
  {
   "cell_type": "code",
   "execution_count": 2,
   "metadata": {},
   "outputs": [],
   "source": [
    "# In Jupyter Notebook\n",
    "# !pip install bokeh"
   ]
  },
  {
   "cell_type": "code",
   "execution_count": 3,
   "metadata": {},
   "outputs": [],
   "source": [
    "# In Jupyter Notebook\n",
    "# !pip install networkx"
   ]
  },
  {
   "cell_type": "code",
   "execution_count": 4,
   "metadata": {},
   "outputs": [],
   "source": [
    "import pandas as pd\n",
    "import numpy as np"
   ]
  },
  {
   "cell_type": "code",
   "execution_count": 5,
   "metadata": {},
   "outputs": [],
   "source": [
    "df = pd.read_csv('astronauts.csv')"
   ]
  },
  {
   "cell_type": "code",
   "execution_count": 6,
   "metadata": {},
   "outputs": [
    {
     "data": {
      "text/html": [
       "<div>\n",
       "<style scoped>\n",
       "    .dataframe tbody tr th:only-of-type {\n",
       "        vertical-align: middle;\n",
       "    }\n",
       "\n",
       "    .dataframe tbody tr th {\n",
       "        vertical-align: top;\n",
       "    }\n",
       "\n",
       "    .dataframe thead th {\n",
       "        text-align: right;\n",
       "    }\n",
       "</style>\n",
       "<table border=\"1\" class=\"dataframe\">\n",
       "  <thead>\n",
       "    <tr style=\"text-align: right;\">\n",
       "      <th></th>\n",
       "      <th>Astronaut</th>\n",
       "      <th>Selection Year</th>\n",
       "      <th>Group</th>\n",
       "      <th># Flights</th>\n",
       "      <th>Status</th>\n",
       "      <th>Military or civilian</th>\n",
       "      <th>Gender</th>\n",
       "      <th>If military include details</th>\n",
       "      <th>Date of birth</th>\n",
       "      <th>Job</th>\n",
       "      <th>Missions flown</th>\n",
       "      <th>Cumulative hours of space flight time</th>\n",
       "    </tr>\n",
       "  </thead>\n",
       "  <tbody>\n",
       "    <tr>\n",
       "      <th>0</th>\n",
       "      <td>Carpenter, M. Scott</td>\n",
       "      <td>1959</td>\n",
       "      <td>1</td>\n",
       "      <td>1</td>\n",
       "      <td>Former</td>\n",
       "      <td>Military</td>\n",
       "      <td>Male</td>\n",
       "      <td>Commander, US Navy (Retired)</td>\n",
       "      <td>5/1/1925</td>\n",
       "      <td>NaN</td>\n",
       "      <td>Mercury 7</td>\n",
       "      <td>4</td>\n",
       "    </tr>\n",
       "    <tr>\n",
       "      <th>1</th>\n",
       "      <td>Williams, Clifton C., Jr.</td>\n",
       "      <td>1963</td>\n",
       "      <td>3</td>\n",
       "      <td>0</td>\n",
       "      <td>Deceased</td>\n",
       "      <td>Military</td>\n",
       "      <td>Male</td>\n",
       "      <td>Major, US Marine Corps</td>\n",
       "      <td>9/26/1932</td>\n",
       "      <td>NaN</td>\n",
       "      <td>NaN</td>\n",
       "      <td>0</td>\n",
       "    </tr>\n",
       "    <tr>\n",
       "      <th>2</th>\n",
       "      <td>Worden, Alfred M.</td>\n",
       "      <td>1966</td>\n",
       "      <td>5</td>\n",
       "      <td>1</td>\n",
       "      <td>Former</td>\n",
       "      <td>Military</td>\n",
       "      <td>Male</td>\n",
       "      <td>Colonel, US Air Force</td>\n",
       "      <td>2/7/1932</td>\n",
       "      <td>NaN</td>\n",
       "      <td>Apollo 15</td>\n",
       "      <td>295</td>\n",
       "    </tr>\n",
       "    <tr>\n",
       "      <th>3</th>\n",
       "      <td>Williams, Donald E.</td>\n",
       "      <td>1978</td>\n",
       "      <td>8</td>\n",
       "      <td>2</td>\n",
       "      <td>Former</td>\n",
       "      <td>Military</td>\n",
       "      <td>Male</td>\n",
       "      <td>Captain, US Navy</td>\n",
       "      <td>2/13/1942</td>\n",
       "      <td>NaN</td>\n",
       "      <td>STS 51-D and STS-34</td>\n",
       "      <td>287</td>\n",
       "    </tr>\n",
       "    <tr>\n",
       "      <th>4</th>\n",
       "      <td>Wilcutt, Terrence W.</td>\n",
       "      <td>1990</td>\n",
       "      <td>13</td>\n",
       "      <td>4</td>\n",
       "      <td>Current</td>\n",
       "      <td>Military</td>\n",
       "      <td>Male</td>\n",
       "      <td>Colonel, US Marine Corps (Retired)</td>\n",
       "      <td>10/31/1949</td>\n",
       "      <td>Pilot</td>\n",
       "      <td>STS-68, STS-79, STS-89 and STS-106</td>\n",
       "      <td>1007</td>\n",
       "    </tr>\n",
       "  </tbody>\n",
       "</table>\n",
       "</div>"
      ],
      "text/plain": [
       "                  Astronaut   Selection Year   Group  # Flights     Status   \\\n",
       "0       Carpenter, M. Scott             1959       1           1    Former    \n",
       "1  Williams, Clifton C., Jr.            1963       3           0  Deceased    \n",
       "2          Worden, Alfred M.            1966       5           1    Former    \n",
       "3        Williams, Donald E.            1978       8           2    Former    \n",
       "4       Wilcutt, Terrence W.            1990      13           4   Current    \n",
       "\n",
       "  Military or civilian Gender         If military include details  \\\n",
       "0             Military   Male        Commander, US Navy (Retired)   \n",
       "1             Military   Male              Major, US Marine Corps   \n",
       "2             Military   Male               Colonel, US Air Force   \n",
       "3             Military   Male                    Captain, US Navy   \n",
       "4             Military   Male  Colonel, US Marine Corps (Retired)   \n",
       "\n",
       "  Date of birth    Job                      Missions flown  \\\n",
       "0      5/1/1925    NaN                           Mercury 7   \n",
       "1     9/26/1932    NaN                                 NaN   \n",
       "2      2/7/1932    NaN                           Apollo 15   \n",
       "3     2/13/1942    NaN                 STS 51-D and STS-34   \n",
       "4    10/31/1949  Pilot  STS-68, STS-79, STS-89 and STS-106   \n",
       "\n",
       "  Cumulative hours of space flight time  \n",
       "0                                     4  \n",
       "1                                     0  \n",
       "2                                   295  \n",
       "3                                   287  \n",
       "4                                  1007  "
      ]
     },
     "execution_count": 6,
     "metadata": {},
     "output_type": "execute_result"
    }
   ],
   "source": [
    "df.head()"
   ]
  },
  {
   "cell_type": "code",
   "execution_count": 7,
   "metadata": {},
   "outputs": [
    {
     "data": {
      "text/plain": [
       "array(['Mercury 7', nan, 'Apollo 15', 'STS 51-D and STS-34',\n",
       "       'STS-68, STS-79, STS-89 and STS-106',\n",
       "       'STS-57, STS-68, STS-81 and STS-92',\n",
       "       'STS-58, NASA-MIR 6 and STS-112',\n",
       "       'STS-111/Exp 5/STS-113 and Soyuz TMA-11',\n",
       "       'STS-101, Exp 13 and Soyuz TMA-16', 'STS-121, STS-120 and STS-131',\n",
       "       'STS-116', 'STS-129', 'Mercury 9 and Gemini 5',\n",
       "       'Mercury 6 and STS-95', 'Mercury 4 and Gemini 3',\n",
       "       'Mercury 8, Gemini 6 and Apollo 7', 'Mercury 3 and Apollo 14',\n",
       "       'Apollo-Soyuz Test Project', 'Gemini 8 and Apollo 11',\n",
       "       'Gemini 7 and Apollo 8',\n",
       "       'Gemini 5, Gemini 11, Apollo 12 and Skylab 2',\n",
       "       'Gemini 7, Gemini 12, Apollo 8 and Apollo 13',\n",
       "       'Gemini 4 and Apollo 9',\n",
       "       'Gemini 6, Gemini 9, Apollo 10 and Apollo-Soyuz Test Project',\n",
       "       'Gemini 4',\n",
       "       'Gemini 3, Gemini 10, Apollo 10, Apollo 16, STS-1 and STS-9',\n",
       "       'Gemini 12 and Apollo 11', 'Apollo 8', 'Apollo 12 and Skylab 3',\n",
       "       'Gemini 9, Apollo 10 and Apollo 17', 'Gemini 10 and Apollo 11',\n",
       "       'Apollo 7', 'Gemini 11 and Apollo 12', 'Apollo 9',\n",
       "       'Gemini 8, Apollo 9 and Apollo 15', 'Skylab 3 and STS-9',\n",
       "       'Skylab 4', 'Skylab 2', 'Apollo 17',\n",
       "       'Apollo-Soyuz Test Project, STS-5, STS 41-B and STS-35',\n",
       "       'Apollo 16', 'STS-2 and STS 51-I', 'Apollo 13 ', 'STS 51-B',\n",
       "       'Skylab 3 and STS-3', 'Apollo 16, STS-4 and STS 51-C',\n",
       "       'STS 41-B and STS-31', 'Apollo 14', 'Apollo 13',\n",
       "       'Skylab 2 and STS-6', 'ST-5 and STS 51-A', 'STS 51-F', 'STS-5',\n",
       "       'STS-6, STS 51-F, STS-33, STS-44, STS-61 and STS-80',\n",
       "       'STS-9 and STS-35', 'STS-8 and STS 51-B',\n",
       "       'STS-6, STS 51-D and STS-51-J',\n",
       "       'STS-1, STS-7, STS 41-C and STS 41-G', 'STS-3 and STS 51-F',\n",
       "       'STS-4, STS 41-D and STS 61-A', 'STS-5 and STS 51-B', 'STS-6',\n",
       "       'STS-2 and STS-8', 'STS-8, STS 61-A, STS-39 and STS-53',\n",
       "       'STS-8, STS 51-G, STS-32 and STS-49',\n",
       "       'STS 51-C, STS 61-A, STS-29 and STS-48',\n",
       "       'STS 41-D, STS-29 and STS-39',\n",
       "       'STS 51-l, STS-26, STS-38 and STS-61',\n",
       "       'STS 51-G, STS-36 and STS-48', 'STS-7 and STS 51-G', 'STS 51-A',\n",
       "       'STS-8 and STS 51-A',\n",
       "       'STS 41-B, STS 61-C, STS-27, STS-47 and STS-71',\n",
       "       'STS 51-B, STS-33 and STS-44', 'STS 51-D', 'STS 41-C',\n",
       "       'STS-7, STS 51-A and STS-26',\n",
       "       'STS 41-D, STS 61-C, STS-31, STS-82 and STS-93',\n",
       "       'STS 51-D, STS-35, STS-46, STS-61 and STS-75',\n",
       "       'STS 51-G, STS-34, STS-43, STS-58, STS-76/Mir and Mir/STS-79',\n",
       "       'STS 41-G', 'STS 41-B', 'STS 41-D, STS-27 and STS-36',\n",
       "       'STS 51-G, STS 61-A, STS-37 and STS-55',\n",
       "       'STS 41-C, STS 61-C and STS-26', 'STS 51-C', 'STS 41-D',\n",
       "       'STS-7 and STS 41-G', 'STS 51-D, STS-40 and STS-58',\n",
       "       'STS-9, STS 61-B and STS-28', 'STS 51-C, STS-31 and STS-46',\n",
       "       'STS 41-B and STS 51-J', 'STS 41-G, STS-31 and STS-45',\n",
       "       'STS-7, STS 51-B, STS-30, STS-42 and Mir/STS-71',\n",
       "       'STS 41-C and STS 51-I', 'STS 51-A, STS-30, STS-53 and STS-69',\n",
       "       'STS-29 and STS-40',\n",
       "       'STS-29, STS-33, STS-43, STS-58, STS-79/Mir and Mir/STS-81',\n",
       "       'STS-61C, STS-31, STS-45 and STS-60',\n",
       "       'STS 61-C, STS-34, STS-46, STS-60, STS-75, STS-91 and STS-111',\n",
       "       'STS 61-B and STS-30',\n",
       "       'STS 61-A, STS-32, STS-50, STS-71 and STS-89', 'STS 51-I',\n",
       "       'STS-27 and STS-35', 'STS 51-J, STS-30, STS-42 and STS-57',\n",
       "       'ST 51-J, STS-26, STS-36 and STS-42',\n",
       "       'STS 41-G, STS-28 and STS-45', 'STS 51-I, STS-26 and STS-35',\n",
       "       'STS 61-B and STS-40', 'STS-28, STS-41, STS-50 and STS-64',\n",
       "       'ST 61-B, ST-27, ST-37, STS-55, STS-74, STS-88 and STS-110',\n",
       "       'STS 61-B', 'STS-29 and STS-38', 'STS-28 and STS-43',\n",
       "       'STS-34, STS-50 and STS-71', 'STS 28 and STS-48',\n",
       "       'STS-37, STS-56 and STS-74', 'STS-33',\n",
       "       'STS-36, STS-54, STS-62 and STS-77',\n",
       "       'STS-38, STS-51 and STS-105/Exp 3/STS-108', 'STS-40 and STS-59',\n",
       "       'STS-39 and STS-64', 'STS-32, STS-46, STS-62, STS-81 and STS-98',\n",
       "       'STS-30, STS-47, STS-64 and STS-82', 'STS-32, STS-43 and STS-57',\n",
       "       'STS-34', 'STS-37, STS-41, STS-52 and Exp 1/STS-102',\n",
       "       'STS-33, STS-49, STS-61 and STS-73', 'STS-39 and STS-52',\n",
       "       'STS-32, STS-52, STS-63, STS-86, STS-102 and STS-113',\n",
       "       'STS-37, STS-47, STS-59 and STS-79',\n",
       "       'STS-43, STS-52, STS-68 and STS-81',\n",
       "       'STS-41, STS-53, STS-65 and STS-88',\n",
       "       'STS-45, STS-57, STS-72 and STS-92', 'STS-38, STS-48 and STS-62',\n",
       "       'STS-37, STS-59, STS-76 and STS-108',\n",
       "       'STS-44, STS-55, STS-70 and STS-78', 'STS-39, STS-49 and STS-65',\n",
       "       'STS-40, STS-52, STS-67, STS-80 and STS-98',\n",
       "       'STS-38, STS-50 and STS-64', 'STS-42, STS-56 and STS-67',\n",
       "       'STS-36, STS-49 and STS-62', 'STS-41, STS-49, STS-61 and STS-79',\n",
       "       'STS-46, STS-62 and STS-75',\n",
       "       'STS-50, STS-61, STS-73, STS-82 and STS-113/Exp. 6',\n",
       "       'STS-47, STS-66, STS-77, STS-85, STS-95 and STS-103',\n",
       "       'STS-49, STS-59 and STS-76', 'STS-47, STS-60 and STS-85',\n",
       "       'STS-45, STS-56, STS-63, STS-84/Mir, Mir/STS-86, STS-103 and Expedition 8',\n",
       "       'STS-39, STS-54, STS-71 and STS-82', 'STS-47',\n",
       "       'STS-39, STS-54 and STS-66', 'STS-41 and STS-49',\n",
       "       'STS-42, STS-51 and STS-79', 'STS-48 and STS-60',\n",
       "       'STS-44, STS-54 and STS-77',\n",
       "       'STS-44, STS-53, STS-69, STS-101 and Exp 2',\n",
       "       'STS-51, STS-68, STS-77, STS-108/Exp 4/STS-111',\n",
       "       'STS-65, STS-72, Exp 10 and STS-92', 'STS-53, STS-59 and STS-76',\n",
       "       'STS-56, STS-69, STS-80, STS-98 and STS-111',\n",
       "       'STS-63, STS-84, STS-114 and STS-93',\n",
       "       'STS-57, STS-70, STS-88 and STS-109', 'STS-67',\n",
       "       'STS-65, STS-74, STS-83, STS-94 and STS-101', 'STS-55 and STS-63',\n",
       "       'STS-54, STS-64, STS-78, STS-101 and STS-102/Exp 2/STS-105',\n",
       "       'STS-59, STS-68, STS-80 and STS-98',\n",
       "       'STS-58, STS-74, Exp 12 and STS-92',\n",
       "       'STS-51, STS-69, STS-88 and STS- 109',\n",
       "       'STS-56, STS-66, STS-96 and STS-110',\n",
       "       'STS-55, STS-71, STS-84 and STS-91', 'STS-58, STS-76 and STS-90',\n",
       "       'STS-60 and STS-76', 'STS-65, STS-70, STS-83 and STS-94',\n",
       "       'STS-57, STS-63, STS-83, STS-94 and STS-99',\n",
       "       'STS-51, STS-65, STS-79 and STS-108/Exp 4/STS-111',\n",
       "       'STS-72, STS-96 and STS-105', 'STS-78', 'STS-73 and STS-93',\n",
       "       'STS-69, STS-83, STS-94 and STS-104',\n",
       "       'STS-67, STS-81, STS-103, STS-125 and STS-109',\n",
       "       'STS-75, STS-82, STS-101 and STS-105',\n",
       "       'STS-72, STS-81, STS-97 and STS-115',\n",
       "       'STS-70, STS-78, STS-87 and STS-99',\n",
       "       'STS-67, STS-86, STS-91 and STS-114', 'STS-64 and STS-81',\n",
       "       'STS-78, STS-90, STS-109 and STS-123',\n",
       "       'STS-73, STS-92 and STS-113 and Exp 14',\n",
       "       'STS-66, STS-86, STS-95, STS-100 and STS-120',\n",
       "       'STS-73, STS-80, STS-85, STS-96 and STS-100', 'STS-72 and STS-87',\n",
       "       'STS-68, STS-82, STS-103 and STS-110',\n",
       "       'STS-66, STS-82, STS-97 and STS-115',\n",
       "       'STS-77, STS-89, STS-102 and STS-114', 'STS-70 and STS-101',\n",
       "       'STS-90, STS-106, STS-109 and STS-125', 'STS-89 and STS-107',\n",
       "       'STS-93, STS-100 and STS-112', 'STS-86, STS-97 and STS-110',\n",
       "       'STS-87 and STS-107', 'STS-85, STS-98 and STS-116', 'STS-89',\n",
       "       'STS-91, STS-99, STS-123 and STS-108', 'STS-90 and STS-130',\n",
       "       'STS-96 and STS-107', 'STS-91, STS-99 and STS-104',\n",
       "       'STS-83 and STS-94',\n",
       "       'STS-87, STS-95 and STS-104, STS-121 and STS-133',\n",
       "       'STS-84, STS-106, Expedition 7 and Soyuz TMA-2',\n",
       "       'STS-92, STS-112 and STS-120', 'STS-84 and STS-97',\n",
       "       'STS-89, STS-104 and STS-117',\n",
       "       'STS-85, STS-95, STS-114 and STS-130',\n",
       "       'STS-88, STS-105, STS-117 and STS-128', 'STS-107',\n",
       "       'STS-106 and STS-115', 'STS-114', 'STS-109',\n",
       "       'Exp 9, Exp 18, STS-134', 'STS-105, STS-117 and STS-128',\n",
       "       'STS-110 and STS-122', 'STS-113', 'STS-104, STS-118 and ST-129',\n",
       "       'STS-102 and STS-114', 'STS-108, STS-121 and STS-124',\n",
       "       'STS-103, STS-118 and Soyuz TMA-M', 'STS-111 and STS-113',\n",
       "       'STS-112 and STS-126', 'STS-109 and STS-125',\n",
       "       'STS-106, STS-118 and STS-131', 'STS-110', 'STS-121',\n",
       "       'STS-113 and STS-126', 'STS-100, Soyuz TMA-6 and STS-119',\n",
       "       'STS-98, ST-116 and STS-127', 'STS-102',\n",
       "       'STS-112, STS-121 and STS-132', 'STS-115 and STS-126',\n",
       "       'STS-108 and STS-120/ Exp 16/ STS-122', 'STS-117 and STS-131',\n",
       "       'STS-117 and STS-119', 'STS-118 and Soyuz TMA-18',\n",
       "       'STS -124, Exp 17 and Exp 18', 'Soyuz TMA-17',\n",
       "       'STS-123 and STS-129', 'STS-121 and STS-124',\n",
       "       'STS-124 and STS-132', 'STS-125', 'STS-123', 'STS-122 ',\n",
       "       'STS-122 and STS-129', 'STS-118', 'STS-117 and STS-128',\n",
       "       'STS-116 and STS-130', 'STS-122 and STS-131',\n",
       "       'STS-123 and STS-132', 'STS-120 and Exp 25', 'STS-120 and STS-130',\n",
       "       'STS-119  and STS-132', 'Soyuz TMA-14, STS-133',\n",
       "       'STS-123 and STS-130', 'STS-126 and STS-133',\n",
       "       'STS-126, STS-132 and STS-133', 'STS-118 and STS-133',\n",
       "       'STS-125 and STS-134', 'STS-128', 'STS-124', 'STS-125 and STS-132',\n",
       "       'STS-127', 'STS-128 and STS-133', 'STS-130', 'STS-119', 'STS-131',\n",
       "       'STS-126'], dtype=object)"
      ]
     },
     "execution_count": 7,
     "metadata": {},
     "output_type": "execute_result"
    }
   ],
   "source": [
    "#Mercury, Apollo, STS, Soyuz, Gemini\n",
    "df['Missions flown'].unique()"
   ]
  },
  {
   "cell_type": "code",
   "execution_count": 8,
   "metadata": {},
   "outputs": [
    {
     "data": {
      "text/plain": [
       "['Astronaut ',\n",
       " 'Selection Year',\n",
       " ' Group',\n",
       " ' # Flights ',\n",
       " 'Status ',\n",
       " 'Military or civilian',\n",
       " 'Gender',\n",
       " 'If military include details',\n",
       " 'Date of birth',\n",
       " 'Job',\n",
       " 'Missions flown',\n",
       " 'Cumulative hours of space flight time']"
      ]
     },
     "execution_count": 8,
     "metadata": {},
     "output_type": "execute_result"
    }
   ],
   "source": [
    "list(df.columns)"
   ]
  },
  {
   "cell_type": "code",
   "execution_count": 9,
   "metadata": {},
   "outputs": [],
   "source": [
    "import re\n",
    "all_missions_for_all_astronauts = []\n",
    "for index, row in df.iterrows():\n",
    "    as_str = str(row['Missions flown'])\n",
    "    as_str = as_str.strip()\n",
    "    as_str = as_str.replace(\"and\", \",\")\n",
    "    new_str = re.split(\",\", as_str)\n",
    "    for j in new_str:\n",
    "        all_missions_for_all_astronauts.append({'name': row['Astronaut '],\n",
    "                                            'selection_year': row['Selection Year'],\n",
    "                                            'group': row[' Group'],\n",
    "                                            'num_flights': row[' # Flights '],\n",
    "                                            'status': row['Status '],\n",
    "                                            'gender': row['Gender'],\n",
    "                                            'hours': row['Cumulative hours of space flight time'],\n",
    "                                            'mission': j\n",
    "                                           })"
   ]
  },
  {
   "cell_type": "code",
   "execution_count": 10,
   "metadata": {},
   "outputs": [],
   "source": [
    "all_missions = pd.DataFrame(all_missions_for_all_astronauts)"
   ]
  },
  {
   "cell_type": "code",
   "execution_count": 11,
   "metadata": {},
   "outputs": [
    {
     "data": {
      "text/html": [
       "<div>\n",
       "<style scoped>\n",
       "    .dataframe tbody tr th:only-of-type {\n",
       "        vertical-align: middle;\n",
       "    }\n",
       "\n",
       "    .dataframe tbody tr th {\n",
       "        vertical-align: top;\n",
       "    }\n",
       "\n",
       "    .dataframe thead th {\n",
       "        text-align: right;\n",
       "    }\n",
       "</style>\n",
       "<table border=\"1\" class=\"dataframe\">\n",
       "  <thead>\n",
       "    <tr style=\"text-align: right;\">\n",
       "      <th></th>\n",
       "      <th>name</th>\n",
       "      <th>selection_year</th>\n",
       "      <th>group</th>\n",
       "      <th>num_flights</th>\n",
       "      <th>status</th>\n",
       "      <th>gender</th>\n",
       "      <th>hours</th>\n",
       "      <th>mission</th>\n",
       "    </tr>\n",
       "  </thead>\n",
       "  <tbody>\n",
       "    <tr>\n",
       "      <th>0</th>\n",
       "      <td>Carpenter, M. Scott</td>\n",
       "      <td>1959</td>\n",
       "      <td>1</td>\n",
       "      <td>1</td>\n",
       "      <td>Former</td>\n",
       "      <td>Male</td>\n",
       "      <td>4</td>\n",
       "      <td>Mercury 7</td>\n",
       "    </tr>\n",
       "    <tr>\n",
       "      <th>1</th>\n",
       "      <td>Williams, Clifton C., Jr.</td>\n",
       "      <td>1963</td>\n",
       "      <td>3</td>\n",
       "      <td>0</td>\n",
       "      <td>Deceased</td>\n",
       "      <td>Male</td>\n",
       "      <td>0</td>\n",
       "      <td>nan</td>\n",
       "    </tr>\n",
       "  </tbody>\n",
       "</table>\n",
       "</div>"
      ],
      "text/plain": [
       "                        name  selection_year  group num_flights     status  \\\n",
       "0       Carpenter, M. Scott             1959      1           1    Former    \n",
       "1  Williams, Clifton C., Jr.            1963      3           0  Deceased    \n",
       "\n",
       "  gender hours    mission  \n",
       "0   Male     4  Mercury 7  \n",
       "1   Male     0        nan  "
      ]
     },
     "execution_count": 11,
     "metadata": {},
     "output_type": "execute_result"
    }
   ],
   "source": [
    "all_missions.head(n=2)"
   ]
  },
  {
   "cell_type": "code",
   "execution_count": 12,
   "metadata": {},
   "outputs": [],
   "source": [
    "#all_missions = all_missions[all_missions['mission'] != 'nan']"
   ]
  },
  {
   "cell_type": "code",
   "execution_count": 13,
   "metadata": {},
   "outputs": [],
   "source": [
    "all_missions = all_missions.sort_values('mission')"
   ]
  },
  {
   "cell_type": "code",
   "execution_count": 14,
   "metadata": {
    "scrolled": true
   },
   "outputs": [
    {
     "data": {
      "text/html": [
       "<div>\n",
       "<style scoped>\n",
       "    .dataframe tbody tr th:only-of-type {\n",
       "        vertical-align: middle;\n",
       "    }\n",
       "\n",
       "    .dataframe tbody tr th {\n",
       "        vertical-align: top;\n",
       "    }\n",
       "\n",
       "    .dataframe thead th {\n",
       "        text-align: right;\n",
       "    }\n",
       "</style>\n",
       "<table border=\"1\" class=\"dataframe\">\n",
       "  <thead>\n",
       "    <tr style=\"text-align: right;\">\n",
       "      <th></th>\n",
       "      <th>name</th>\n",
       "      <th>selection_year</th>\n",
       "      <th>group</th>\n",
       "      <th>num_flights</th>\n",
       "      <th>status</th>\n",
       "      <th>gender</th>\n",
       "      <th>hours</th>\n",
       "      <th>mission</th>\n",
       "    </tr>\n",
       "  </thead>\n",
       "  <tbody>\n",
       "    <tr>\n",
       "      <th>75</th>\n",
       "      <td>Young, John W.</td>\n",
       "      <td>1962</td>\n",
       "      <td>2</td>\n",
       "      <td>6</td>\n",
       "      <td>Former</td>\n",
       "      <td>Male</td>\n",
       "      <td>835</td>\n",
       "      <td>Apollo 10</td>\n",
       "    </tr>\n",
       "    <tr>\n",
       "      <th>86</th>\n",
       "      <td>Cernan, Eugene A.</td>\n",
       "      <td>1963</td>\n",
       "      <td>3</td>\n",
       "      <td>3</td>\n",
       "      <td>Former</td>\n",
       "      <td>Male</td>\n",
       "      <td>566</td>\n",
       "      <td>Apollo 10</td>\n",
       "    </tr>\n",
       "    <tr>\n",
       "      <th>70</th>\n",
       "      <td>Stafford, Thomas P.</td>\n",
       "      <td>1962</td>\n",
       "      <td>2</td>\n",
       "      <td>4</td>\n",
       "      <td>Former</td>\n",
       "      <td>Male</td>\n",
       "      <td>507</td>\n",
       "      <td>Apollo 10</td>\n",
       "    </tr>\n",
       "    <tr>\n",
       "      <th>90</th>\n",
       "      <td>Collins, Michael</td>\n",
       "      <td>1963</td>\n",
       "      <td>3</td>\n",
       "      <td>2</td>\n",
       "      <td>Former</td>\n",
       "      <td>Male</td>\n",
       "      <td>266</td>\n",
       "      <td>Apollo 11</td>\n",
       "    </tr>\n",
       "    <tr>\n",
       "      <th>80</th>\n",
       "      <td>Aldrin, Buzz</td>\n",
       "      <td>1963</td>\n",
       "      <td>3</td>\n",
       "      <td>2</td>\n",
       "      <td>Former</td>\n",
       "      <td>Male</td>\n",
       "      <td>289</td>\n",
       "      <td>Apollo 11</td>\n",
       "    </tr>\n",
       "  </tbody>\n",
       "</table>\n",
       "</div>"
      ],
      "text/plain": [
       "                    name  selection_year  group num_flights   status gender  \\\n",
       "75       Young, John W.             1962      2          6   Former    Male   \n",
       "86    Cernan, Eugene A.             1963      3          3   Former    Male   \n",
       "70  Stafford, Thomas P.             1962      2          4   Former    Male   \n",
       "90     Collins, Michael             1963      3          2   Former    Male   \n",
       "80         Aldrin, Buzz             1963      3          2   Former    Male   \n",
       "\n",
       "   hours      mission  \n",
       "75   835    Apollo 10  \n",
       "86   566   Apollo 10   \n",
       "70   507   Apollo 10   \n",
       "90   266    Apollo 11  \n",
       "80   289    Apollo 11  "
      ]
     },
     "execution_count": 14,
     "metadata": {},
     "output_type": "execute_result"
    }
   ],
   "source": [
    "all_missions.head(n=5)"
   ]
  },
  {
   "cell_type": "code",
   "execution_count": 15,
   "metadata": {},
   "outputs": [
    {
     "data": {
      "text/plain": [
       "(814, 8)"
      ]
     },
     "execution_count": 15,
     "metadata": {},
     "output_type": "execute_result"
    }
   ],
   "source": [
    "all_missions.shape"
   ]
  },
  {
   "cell_type": "code",
   "execution_count": 16,
   "metadata": {},
   "outputs": [],
   "source": [
    "reshape = []"
   ]
  },
  {
   "cell_type": "code",
   "execution_count": 17,
   "metadata": {},
   "outputs": [],
   "source": [
    "# Very costly operations\n",
    "for i, j in all_missions.iterrows():\n",
    "    for _, k in all_missions.iterrows():\n",
    "        if (j['name'] == k['name']):\n",
    "            pass\n",
    "        elif j['mission'] == 'nan':\n",
    "            reshape.append({'name1': j['name'],\n",
    "                            'name2': j['name'],\n",
    "                            'mission': \"None\"})\n",
    "        elif (j['mission'] == k['mission']):\n",
    "            reshape.append({'name1': j['name'],\n",
    "                            'name2': k['name'],\n",
    "                            'mission': j['mission']})\n",
    "        else:\n",
    "            pass"
   ]
  },
  {
   "cell_type": "code",
   "execution_count": 18,
   "metadata": {},
   "outputs": [],
   "source": [
    "ndf = pd.DataFrame(reshape)"
   ]
  },
  {
   "cell_type": "code",
   "execution_count": 19,
   "metadata": {},
   "outputs": [
    {
     "data": {
      "text/html": [
       "<div>\n",
       "<style scoped>\n",
       "    .dataframe tbody tr th:only-of-type {\n",
       "        vertical-align: middle;\n",
       "    }\n",
       "\n",
       "    .dataframe tbody tr th {\n",
       "        vertical-align: top;\n",
       "    }\n",
       "\n",
       "    .dataframe thead th {\n",
       "        text-align: right;\n",
       "    }\n",
       "</style>\n",
       "<table border=\"1\" class=\"dataframe\">\n",
       "  <thead>\n",
       "    <tr style=\"text-align: right;\">\n",
       "      <th></th>\n",
       "      <th>name1</th>\n",
       "      <th>name2</th>\n",
       "      <th>mission</th>\n",
       "    </tr>\n",
       "  </thead>\n",
       "  <tbody>\n",
       "    <tr>\n",
       "      <th>0</th>\n",
       "      <td>Cernan, Eugene A.</td>\n",
       "      <td>Stafford, Thomas P.</td>\n",
       "      <td>Apollo 10</td>\n",
       "    </tr>\n",
       "    <tr>\n",
       "      <th>1</th>\n",
       "      <td>Stafford, Thomas P.</td>\n",
       "      <td>Cernan, Eugene A.</td>\n",
       "      <td>Apollo 10</td>\n",
       "    </tr>\n",
       "    <tr>\n",
       "      <th>2</th>\n",
       "      <td>Collins, Michael</td>\n",
       "      <td>Aldrin, Buzz</td>\n",
       "      <td>Apollo 11</td>\n",
       "    </tr>\n",
       "    <tr>\n",
       "      <th>3</th>\n",
       "      <td>Collins, Michael</td>\n",
       "      <td>Armstrong, Neil A.</td>\n",
       "      <td>Apollo 11</td>\n",
       "    </tr>\n",
       "    <tr>\n",
       "      <th>4</th>\n",
       "      <td>Aldrin, Buzz</td>\n",
       "      <td>Collins, Michael</td>\n",
       "      <td>Apollo 11</td>\n",
       "    </tr>\n",
       "  </tbody>\n",
       "</table>\n",
       "</div>"
      ],
      "text/plain": [
       "                  name1                 name2      mission\n",
       "0    Cernan, Eugene A.   Stafford, Thomas P.    Apollo 10 \n",
       "1  Stafford, Thomas P.     Cernan, Eugene A.    Apollo 10 \n",
       "2     Collins, Michael          Aldrin, Buzz     Apollo 11\n",
       "3     Collins, Michael    Armstrong, Neil A.     Apollo 11\n",
       "4         Aldrin, Buzz      Collins, Michael     Apollo 11"
      ]
     },
     "execution_count": 19,
     "metadata": {},
     "output_type": "execute_result"
    }
   ],
   "source": [
    "ndf.head(n=5)"
   ]
  },
  {
   "cell_type": "code",
   "execution_count": 20,
   "metadata": {},
   "outputs": [],
   "source": [
    "import networkx as nx"
   ]
  },
  {
   "cell_type": "code",
   "execution_count": 21,
   "metadata": {},
   "outputs": [
    {
     "data": {
      "image/png": "[encoded data removed]",
      "text/plain": [
       "<Figure size 432x288 with 1 Axes>"
      ]
     },
     "metadata": {},
     "output_type": "display_data"
    }
   ],
   "source": [
    "#'from_pandas_dataframe' was removed in 2-2.\n",
    "g = nx.from_pandas_edgelist(ndf, source='name1', target='name2') \n",
    "nx.draw(g)"
   ]
  },
  {
   "cell_type": "code",
   "execution_count": 22,
   "metadata": {},
   "outputs": [
    {
     "data": {
      "image/png": "[encoded data removed]",
      "text/plain": [
       "<Figure size 432x288 with 1 Axes>"
      ]
     },
     "metadata": {},
     "output_type": "display_data"
    }
   ],
   "source": [
    "# Save graph\n",
    "nx.write_gml(g, \"C:\\\\Users\\\\Monica\\\\Desktop\\\\Projects\\\\Python Projects 1\\\\Visualization\\\\Project_9_Visualization_with_bokeh_networkx\\\\Network_Graph1.gml\")\n",
    "nx.draw(g)"
   ]
  },
  {
   "cell_type": "code",
   "execution_count": 23,
   "metadata": {},
   "outputs": [],
   "source": [
    "# Make a list of the missions, we'll use it later\n",
    "missions = list(ndf.mission.unique())\n",
    "#missions"
   ]
  },
  {
   "cell_type": "code",
   "execution_count": 24,
   "metadata": {},
   "outputs": [],
   "source": [
    "# Make a list of the astronauts, we'll use it later\n",
    "people = list(ndf.name1.unique())\n",
    "#people"
   ]
  },
  {
   "cell_type": "code",
   "execution_count": 25,
   "metadata": {},
   "outputs": [],
   "source": [
    "#dict(zip(missions, missions))"
   ]
  },
  {
   "cell_type": "code",
   "execution_count": 26,
   "metadata": {},
   "outputs": [],
   "source": [
    "#people"
   ]
  },
  {
   "cell_type": "code",
   "execution_count": 27,
   "metadata": {},
   "outputs": [
    {
     "data": {
      "text/plain": [
       "2"
      ]
     },
     "execution_count": 27,
     "metadata": {},
     "output_type": "execute_result"
    }
   ],
   "source": [
    "g.degree(\"Aldrin, Buzz \")"
   ]
  },
  {
   "cell_type": "code",
   "execution_count": 28,
   "metadata": {},
   "outputs": [
    {
     "data": {
      "image/png": "[encoded data removed]",
      "text/plain": [
       "<Figure size 864x864 with 1 Axes>"
      ]
     },
     "metadata": {},
     "output_type": "display_data"
    }
   ],
   "source": [
    "import matplotlib.pyplot as plt\n",
    "\n",
    "plt.figure(figsize=(12, 12))\n",
    "\n",
    "# 1. Create the graph\n",
    "g = nx.from_pandas_edgelist(ndf, source='name1', target='name2', edge_attr='name1') \n",
    "\n",
    "# 2. Create a layout for our nodes \n",
    "layout = nx.spring_layout(g, iterations=50)\n",
    "\n",
    "# Edges thin and grey\n",
    "# People small and grey\n",
    "# Clubs sized according to their number of connections\n",
    "# Clubs blue\n",
    "# Labels for clubs ONLY\n",
    "# People who are highly connected are a highlighted color\n",
    "\n",
    "size = [g.degree(name) * 80 for name in people]\n",
    "nx.draw_networkx_nodes(g, \n",
    "                       layout, \n",
    "                       nodelist=people, \n",
    "                       node_size=size, # a LIST of sizes, based on g.degree\n",
    "                       node_color='lightblue')\n",
    "\n",
    "# Draw EVERYONE\n",
    "nx.draw_networkx_nodes(g, layout, nodelist=people, node_color='#cccccc', node_size=100)\n",
    "\n",
    "# Draw POPULAR PEOPLE\n",
    "popular_people = [person for person in people if g.degree(person) > 1]\n",
    "nx.draw_networkx_nodes(g, layout, nodelist=popular_people, node_color='orange', node_size=100)\n",
    "\n",
    "nx.draw_networkx_edges(g, layout, width=1, edge_color=\"#cccccc\")\n",
    "\n",
    "#node_labels = dict(zip(people, people))\n",
    "#nx.draw_networkx_labels(g, layout, labels=node_labels)\n",
    "\n",
    "# 4. Turn off the axis because I know you don't want it\n",
    "plt.axis('off')\n",
    "\n",
    "plt.title(\"Astronauts and their missions\")\n",
    "\n",
    "# 5. Save graph\n",
    "plt.savefig('Network_Graph2.png', dpi=300)\n",
    "\n",
    "# 6. Tell matplotlib to show it\n",
    "plt.show()"
   ]
  },
  {
   "cell_type": "code",
   "execution_count": 29,
   "metadata": {},
   "outputs": [
    {
     "name": "stderr",
     "output_type": "stream",
     "text": [
      "BokehDeprecationWarning: Importing from_networkx from bokeh.models.graphs is deprecated and will be removed in Bokeh 3.0. Import from bokeh.plotting instead\n"
     ]
    }
   ],
   "source": [
    "from bokeh.io import show, output_file\n",
    "from bokeh.models import Plot, Range1d, MultiLine, Circle, HoverTool, TapTool, BoxSelectTool, WheelZoomTool\n",
    "from bokeh.models.graphs import from_networkx, NodesAndLinkedEdges, EdgesAndLinkedNodes\n",
    "from bokeh.palettes import Spectral4\n",
    "\n",
    "TOOLTIPS = [\n",
    "    (\"name\", \"@name1\"),\n",
    "]\n",
    "\n",
    "plot = Plot(x_range=Range1d(-1.1,1.1), y_range=Range1d(-1.1,1.1))\n",
    "plot.title.text = \"U.S. Astronauts\"\n",
    "\n",
    "plot.add_tools(HoverTool(tooltips=TOOLTIPS), TapTool(), BoxSelectTool(), WheelZoomTool())\n",
    "\n",
    "graph_renderer = from_networkx(g, nx.spring_layout, scale=1, center=(0,0))\n",
    "# Manipulating the nodes themselves\n",
    "graph_renderer.node_renderer.glyph = Circle(size=15, fill_color=Spectral4[0])\n",
    "graph_renderer.node_renderer.selection_glyph = Circle(size=15, fill_color=Spectral4[2])\n",
    "graph_renderer.node_renderer.hover_glyph = Circle(size=15, fill_color=Spectral4[1])\n",
    "# Manipulating their connections\n",
    "graph_renderer.edge_renderer.glyph = MultiLine(line_color=\"#CCCCCC\", line_alpha=0.8, line_width=5)\n",
    "graph_renderer.edge_renderer.selection_glyph = MultiLine(line_color=Spectral4[2], line_width=5)\n",
    "graph_renderer.edge_renderer.hover_glyph = MultiLine(line_color=Spectral4[1], line_width=5)\n",
    "\n",
    "graph_renderer.selection_policy = NodesAndLinkedEdges()\n",
    "graph_renderer.inspection_policy = EdgesAndLinkedNodes()\n",
    "\n",
    "\n",
    "plot.renderers.append(graph_renderer)\n",
    "\n",
    "\n",
    "output_file(\"Interactive_Graphs.html\")\n",
    "show(plot)"
   ]
  }
 ],
 "metadata": {
  "kernelspec": {
   "display_name": "Python 3",
   "language": "python",
   "name": "python3"
  },
  "language_info": {
   "codemirror_mode": {
    "name": "ipython",
    "version": 3
   },
   "file_extension": ".py",
   "mimetype": "text/x-python",
   "name": "python",
   "nbconvert_exporter": "python",
   "pygments_lexer": "ipython3",
   "version": "3.8.3"
  }
 },
 "nbformat": 4,
 "nbformat_minor": 2
}
